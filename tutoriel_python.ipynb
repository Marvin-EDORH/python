{
 "cells": [
  {
   "cell_type": "code",
   "execution_count": null,
   "metadata": {},
   "outputs": [],
   "source": [
    "import pandas as pd\n",
    "import numpy as np\n",
    "import os"
   ]
  },
  {
   "cell_type": "markdown",
   "metadata": {},
   "source": [
    "# **DataFrame** "
   ]
  },
  {
   "cell_type": "markdown",
   "metadata": {},
   "source": [
    "<div class=\"alert alert-block alert-info\">\n",
    "Création de DataFrame par lignes\n",
    "</div>"
   ]
  },
  {
   "cell_type": "code",
   "execution_count": null,
   "metadata": {},
   "outputs": [],
   "source": [
    "ar = np.array([[1.1, 2, 3.3, 4], [2.7, 10, 5.4, 7], [5.3, 9, 1.5, 15]]) #lignes\n",
    "df = pd.DataFrame(ar, index = ['i1', 'i2', 'i3'], columns = ['A', 'B', 'C', 'D']) #index\n",
    "df"
   ]
  },
  {
   "cell_type": "code",
   "execution_count": null,
   "metadata": {},
   "outputs": [],
   "source": [
    "<div class=\"alert alert-block alert-info\">\n",
    "Création de DataFrame par colonnes\n",
    "</div>"
   ]
  },
  {
   "cell_type": "code",
   "execution_count": null,
   "metadata": {},
   "outputs": [],
   "source": [
    "df_2 = pd.DataFrame({'col1': [1.1, 2.7, 5.3], \n",
    "                     'col2': [2, 10, 9],\n",
    "                     'col3': [3.3, 5.4, 1.5], \n",
    "                     'col4': [4, 7, 15]}, \n",
    "                     index = ['i1', 'i2', 'i3'])\n",
    "df_2"
   ]
  },
  {
   "cell_type": "code",
   "execution_count": null,
   "metadata": {},
   "outputs": [],
   "source": [
    "df_3 = pd.DataFrame({'col1': pd.Series([2, 3, 4], index = ['i1', 'i2', 'i3']), \n",
    "                     'col2': pd.Series([6, 7, 8], index = ['i2', 'i1', 'i4'])})\n",
    "df_3"
   ]
  },
  {
   "cell_type": "markdown",
   "metadata": {},
   "source": [
    "<div class=\"alert alert-block alert-info\">\n",
    "Manipulation de DataFrame\n",
    "</div>"
   ]
  },
  {
   "cell_type": "code",
   "execution_count": null,
   "metadata": {},
   "outputs": [],
   "source": [
    "df['A'] #afficher colonne A du DataFrame 'df'\n",
    "\n",
    "df['A'][0:3] #les 3 premières valeurs des 3 premières lignes de la colonne 'A' (sous forme de Series)\n",
    "\n",
    "df.loc['i2'] #renvoie la Series correspondant à la ligne d'index i2\n",
    "\n",
    "df.loc[['i2', 'i3'], ['A', 'C']] # renvoie un dataframe avec un sous-ensemble des lignes et des colonnes \n",
    "\n",
    "df.loc[:,['A', 'C']] # toutes les lignes et seulement les colonnes A et B.\n",
    "\n",
    "df.loc['i2', 'C'] # accès à la valeur de la ligne i2 et de la colonne C : 5.4.\n",
    "\n",
    "df.at['i2', 'C'] # autre façon recommandée d'accéder à la valeur de la ligne i2 et de la colonne C : 5.4.\n",
    "\n",
    "df.at['i2', 'C'] = 7 # on peut aussi faire une affectation pour changer la valeur : .\n",
    "\n",
    "df.at[0, 1] # on peut aussi utiliser des indices numériques : (ou même un mélange des deux).\n",
    "\n",
    "df[df['A'] > 2] #renvoie un dataframe avec seulement les lignes où la condition est vérifiée \n",
    "\n",
    "df.iloc[1] # renvoie la deuxième ligne.\n",
    "\n",
    "df.iloc[1:3,[0, 2]] # renvoie le dataframe avec les lignes 1 à 3 exclue, et les colonnes numéros 0 et 2.\n",
    "\n",
    "df.iloc[:,2:4] #renvoie toutes les lignes et les colonnes 2 à 4 exclue.\n",
    "\n",
    "df.iloc[1,2] #renvoie la valeur à la ligne 2 et la colonne 3.\n",
    "\n",
    "df.iat[1,2] #renvoie la valeur à la ligne 2 et la colonne 3.\n",
    "\n",
    "df.iat[1, 2] = 7 # on peut aussi faire une affectation pour changer la valeur \n",
    "\n",
    "df.rename(columns = {'A': 'aa', 'B': 'bb'}) #Renommer une variable\n",
    "\n",
    "df.rename(columns = {'C': 'A'})  # renomme les colonnes A et B en a et b, mais pas les autres s'il y en a d'autres.\n",
    "\n",
    "df.rename(index = {0: 'i1', 1: 'i2'}, inplace = True)  \n",
    "#on peut aussi utiliser des numéros, ici sur les lignes, et ici en modifiant directement le dataframe.\n",
    "\n",
    "df['E'] = pd.Series([1, 0, 1], index = ['i1', 'i2', 'i3'])\n",
    "\n",
    "df.assign(E = df['A'] + df['B'], F = 2 * df['A']) \n",
    "#renvoie une copie du dataframe avec deux nouvelles colonnes E et F (sans modifier le dataframe original)\n",
    "\n",
    "del df['A'] # permet de supprimer la colonne A\n",
    "\n",
    "df.drop(['i1', 'i3'], inplace = True) #détruit les lignes d'index 'i1' et 'i3'\n",
    "\n",
    "df.drop(['A', 'C'], axis = 1, inplace = True) #permet de détruire plusieurs colonnes en même temps.\n",
    "\n",
    "df.drop(columns = ['A', 'C'], inplace = True) #alternative à l'indication de l'axis.\n",
    "\n",
    "df.drop(index = ['i1', 'i3'], inplace = True) #alternative à l'indication de l'axis (destruction de lignes)\n",
    "\n",
    "df.astype(np.float64) # renvoie un dataframe avec toutes les colonnes converties dans le type indiqué\n",
    "\n",
    "df.astype({'A': int, 'B': np.float64}) \n",
    "#renvoie un dataframe avec les colonnes A et B converties selon les types indiqués.\n",
    "\n",
    "df['A'][df['A'] < 2] = 0 #on peut faire \n",
    "\n",
    "df.dropna(how = 'any') \n",
    "\n",
    "df.dropna() \n",
    "#renvoie un dataframe avec les lignes contenant au moins \n",
    "#une valeur NaN supprimée (how = 'all' : supprime les lignes où toutes les valeurs sont NaN)\n",
    "\n",
    "df.dropna(axis = 1, how = 'any') \n",
    "#supprime les colonnes ayant au moins un NaN plutôt que les lignes (le défaut est axis = 0).\n",
    "\n",
    "df.dropna(inplace = True) #ne renvoie rien, mais fait la modification en place.\n",
    "\n",
    "df.fillna(0) #renvoie un dataframe avec toutes les valeurs NaN remplacées par 0.\n",
    "\n",
    "df['A'].fillna(0, inplace = True) #remplace tous les NA de la colonne A par 0, sur place.\n",
    "\n",
    "df.isnull() #renvoie un dataframe de booléens, avec True dans toutes les cellules non définies. \n",
    "\n",
    "df.replace(np.inf, 99) #remplace les valeurs infinies par 99 (on peut utiliser inplace = True)\n",
    "\n",
    "df.copy() # df2 est alors un dataframe indépendant. \n",
    "\n",
    "df.replace(1, 5) # remplace tous les 1 par 5.\n",
    "\n",
    "df.replace([1, 2], [5, 7]) #remplace tous les 1 par 5 et tous les 2 par 7.\n",
    "\n",
    "df.replace({1: 5, 2: 7}) #remplace tous les 1 par 5 et tous les 2 par 7.\n",
    "\n",
    "df.drop_duplicates() \n",
    "#renvoie un dataframe avec les lignes redondantes enlevées \n",
    "#en n'en conservant qu'une seule (ici 3 lignes restant)\n",
    "\n",
    "df.drop_duplicates(keep = False) \n",
    "#renvoie un dataframe avec les lignes redondantes toutes enlevées\n",
    "\n",
    "df.drop_duplicates(inplace = True) # fait la modification en place.\n",
    "\n",
    "df.drop_duplicates(subset = ['A', 'B']) \n",
    "#renvoie un dataframe avec les doublons enlevés en considérant seulement les colonnes A et B, \n",
    "#et en renvoyant la 1ère ligne pour chaque groupe ayant mêmes valeurs de A et B.\n",
    "\n",
    "df.drop_duplicates(subset = ['A', 'B'], keep = 'last') \n",
    "# on conserve la dernière ligne plutôt que la première (keep = first, qui est le défaut).\n",
    "\n",
    "df.T #renvoie le dataframe transposé.\n",
    "\n",
    "df.sort_index(axis = 0, ascending = False) \n",
    "# dataframe df avec les lignes triées par ordre décroissant des labels (le défaut est ascendant)\n",
    "\n",
    "df.info() #imprime des infos sur le dataframe : les noms et types des colonnes, le nombre de valeurs non nulles et la place occupée.\n",
    "\n",
    "df.head(2) #renvoie un dataframe avec les 2 premières lignes. #Idem avec df.tail(2) pour les deux dernières.\n",
    "\n",
    "df.head() #les 5 premières\n",
    "\n",
    "df.tail() #les 5 dernières.\n",
    "\n",
    "df.columns #les noms des colonnes, par exemple Index(['A', 'B', 'C', 'D'], dtype='object').\n",
    "\n",
    "df.columns.values #le nom des colonnes sous forme d'array numpy.\n",
    "\n",
    "df.index #les noms des lignes (individus), par exemple Index(['i1', 'i2', 'i3'], dtype='object').\n",
    "\n",
    "df.index.values #le nom des lignes sous forme d'array numpy.\n",
    "\n",
    "df.values #pour récupérer le dataframe sous forme d'array numpy 2d.\n",
    "\n",
    "df.describe() #renvoie un dataframe donnant des statistiques sur les valeurs (nombres de valeurs, moyenne, écart-type, ...), \n",
    "#mais uniquement sur les colonnes numériques (faire df.describe(include = 'all')"
   ]
  },
  {
   "cell_type": "markdown",
   "metadata": {},
   "source": [
    "<div class=\"alert alert-block alert-info\">\n",
    "Import de DataFrame\n",
    "</div>"
   ]
  },
  {
   "cell_type": "code",
   "execution_count": null,
   "metadata": {},
   "outputs": [],
   "source": [
    "os.chdir('C:/Users/marvin.edorh_artefac/Desktop/Python')"
   ]
  },
  {
   "cell_type": "code",
   "execution_count": null,
   "metadata": {},
   "outputs": [],
   "source": [
    "table_Janvier_juin = pd.read_csv('bq-results-20220202-112742-8uhtmn1jew7v.csv', sep=\",\") \n",
    "table_juillet_decembre = pd.read_csv('bq-results-20220202-113230-xz2qjac20sim.csv', sep=\",\")"
   ]
  },
  {
   "cell_type": "code",
   "execution_count": null,
   "metadata": {},
   "outputs": [],
   "source": [
    "results_Janvier_juin = table_Janvier_juin[['ID_EMETTEUR',\n",
    "'SYSTEME_EMETTEUR',                                         \n",
    "'DATE_CREATION_SOURCE',\n",
    "'NB_NON_FAITS',\n",
    "'INSTRUCTION_INTERVENTION']]"
   ]
  },
  {
   "cell_type": "code",
   "execution_count": null,
   "metadata": {},
   "outputs": [],
   "source": [
    "results_juillet_decembre = table_juillet_decembre[['ID_EMETTEUR',\n",
    "'SYSTEME_EMETTEUR',                                         \n",
    "'DATE_CREATION_SOURCE',\n",
    "'NB_NON_FAITS',\n",
    "'INSTRUCTION_INTERVENTION']]"
   ]
  },
  {
   "cell_type": "markdown",
   "metadata": {},
   "source": [
    "<div class=\"alert alert-block alert-info\">\n",
    "Concatenation de DataFrame\n",
    "</div>"
   ]
  },
  {
   "cell_type": "code",
   "execution_count": null,
   "metadata": {},
   "outputs": [],
   "source": [
    "concatenation = pd.concat([results_Janvier_juin, results_juillet_decembre]) "
   ]
  },
  {
   "cell_type": "markdown",
   "metadata": {},
   "source": [
    "<div class=\"alert alert-block alert-info\">\n",
    "Jointure de DataFrame\n",
    "</div>"
   ]
  },
  {
   "cell_type": "code",
   "execution_count": null,
   "metadata": {},
   "outputs": [],
   "source": [
    "data = table_Janvier_juin[['ID_EMETTEUR','SYSTEME_EMETTEUR']]\n",
    "data_2 = table_Janvier_juin[['ID_EMETTEUR','NB_NON_FAITS']]"
   ]
  },
  {
   "cell_type": "markdown",
   "metadata": {},
   "source": [
    "**INNER JOIN** "
   ]
  },
  {
   "cell_type": "code",
   "execution_count": null,
   "metadata": {},
   "outputs": [],
   "source": [
    "data_3=pd.merge(data, data_2, on = ['ID_EMETTEUR']) \n",
    "data_3\n",
    "# merge par défaut, \"on\" est facultatif si variable commune aux 2 tables"
   ]
  },
  {
   "cell_type": "code",
   "execution_count": null,
   "metadata": {},
   "outputs": [],
   "source": [
    "data_4 = data.merge(data_2) #méthode 2"
   ]
  },
  {
   "cell_type": "markdown",
   "metadata": {},
   "source": [
    "**FULL JOIN**  "
   ]
  },
  {
   "cell_type": "code",
   "execution_count": null,
   "metadata": {},
   "outputs": [],
   "source": [
    "data_5 = pd.merge(data, data_4, on = ['ID'], how = 'outer') "
   ]
  },
  {
   "cell_type": "markdown",
   "metadata": {},
   "source": [
    "**LEFT JOIN** "
   ]
  },
  {
   "cell_type": "code",
   "execution_count": null,
   "metadata": {},
   "outputs": [],
   "source": [
    "data_6 = pd.merge(data_3, data_2, how = 'left')"
   ]
  },
  {
   "cell_type": "markdown",
   "metadata": {},
   "source": [
    "**RIGHT JOIN**"
   ]
  },
  {
   "cell_type": "code",
   "execution_count": null,
   "metadata": {},
   "outputs": [],
   "source": [
    "data_9 =  pd.merge(data, data_4, how = 'right')"
   ]
  },
  {
   "cell_type": "markdown",
   "metadata": {},
   "source": [
    "<div class=\"alert alert-block alert-info\">\n",
    "Selection de colonnes\n",
    "</div>"
   ]
  },
  {
   "cell_type": "code",
   "execution_count": null,
   "metadata": {},
   "outputs": [],
   "source": [
    "col = list(table_Janvier_juin.columns)              \n",
    "del col[0] \n",
    "del col[99] \n",
    "data_10 = pd.DataFrame(np.c_[table_Janvier_juin.iloc[:,1:100], #colonne 2 à 99, colonne 100 non compris\n",
    "                             table_Janvier_juin.iloc[:,[101]]], columns = col, index = table_Janvier_juin['ID_EMETTEUR']) "
   ]
  },
  {
   "cell_type": "markdown",
   "metadata": {},
   "source": [
    "<div class=\"alert alert-block alert-info\">\n",
    "Ajouter une variable\n",
    "</div>"
   ]
  },
  {
   "cell_type": "code",
   "execution_count": null,
   "metadata": {},
   "outputs": [],
   "source": [
    "data_10['A_bis'] = np.where(data_10['NB_NON_FAITS']>0,1,0) #A_bis = 1 si A > 0 sinon A_bis = 0"
   ]
  },
  {
   "cell_type": "code",
   "execution_count": null,
   "metadata": {},
   "outputs": [],
   "source": [
    "data_10['A_bis'] =  data_10.A_bis.replace({1:\"oui\",0:\"non\"}) #recoder la variable A_bis "
   ]
  },
  {
   "cell_type": "markdown",
   "metadata": {},
   "source": [
    "# **Fonctions** "
   ]
  },
  {
   "cell_type": "markdown",
   "metadata": {},
   "source": [
    "<div class=\"alert alert-block alert-info\">\n",
    "Boucle Si\n",
    "</div>"
   ]
  },
  {
   "cell_type": "code",
   "execution_count": null,
   "metadata": {},
   "outputs": [],
   "source": [
    "x = 2\n",
    "if x > 1 :\n",
    "    print(\"bb\") #si vrai -> exécution du code indenté\n",
    "print(\"ff\")"
   ]
  },
  {
   "cell_type": "code",
   "execution_count": null,
   "metadata": {},
   "outputs": [],
   "source": [
    "x = 0\n",
    "if x > 1 :\n",
    "    print(\"bb\") \n",
    "print(\"ff\")"
   ]
  },
  {
   "cell_type": "code",
   "execution_count": null,
   "metadata": {},
   "outputs": [],
   "source": [
    "x = 0\n",
    "if x > 1 :\n",
    "    print(\"bb\") \n",
    "else :\n",
    "    print(\"cc\")"
   ]
  },
  {
   "cell_type": "code",
   "execution_count": null,
   "metadata": {},
   "outputs": [],
   "source": [
    "x = 0\n",
    "if x > 1 :\n",
    "    print(\"bb\") \n",
    "else :\n",
    "    print(\"cc\")\n",
    "    if x < 1 :\n",
    "        print(\"vv\") "
   ]
  },
  {
   "cell_type": "markdown",
   "metadata": {},
   "source": [
    "<div class=\"alert alert-block alert-info\">\n",
    "Boucle While\n",
    "</div>"
   ]
  },
  {
   "cell_type": "code",
   "execution_count": null,
   "metadata": {},
   "outputs": [],
   "source": [
    "i = 0\n",
    "while i < 5:\n",
    "    print (i, \"C bon\")\n",
    "    i = i + 1"
   ]
  },
  {
   "cell_type": "code",
   "execution_count": null,
   "metadata": {},
   "outputs": [],
   "source": [
    "i = 0\n",
    "while i < 10 :\n",
    "    if i % 2 == 0 : #reste de la division euclidienne\n",
    "        print (i, \"C bon\")\n",
    "    i = i + 1"
   ]
  },
  {
   "cell_type": "markdown",
   "metadata": {},
   "source": [
    "<div class=\"alert alert-block alert-info\">\n",
    "Boucle def\n",
    "</div>"
   ]
  },
  {
   "cell_type": "code",
   "execution_count": null,
   "metadata": {},
   "outputs": [],
   "source": [
    "def compteur3():\n",
    "    i = 0\n",
    "    while i < 3:\n",
    "        print(i)\n",
    "        i = i + 1"
   ]
  },
  {
   "cell_type": "code",
   "execution_count": null,
   "metadata": {},
   "outputs": [],
   "source": [
    "compteur3()"
   ]
  },
  {
   "cell_type": "code",
   "execution_count": null,
   "metadata": {},
   "outputs": [],
   "source": [
    "def compteur(stop):\n",
    "    i = 0\n",
    "    while i < stop:\n",
    "        print(i)\n",
    "        i = i + 1"
   ]
  },
  {
   "cell_type": "code",
   "execution_count": null,
   "metadata": {},
   "outputs": [],
   "source": [
    "compteur(15)"
   ]
  },
  {
   "cell_type": "code",
   "execution_count": null,
   "metadata": {},
   "outputs": [],
   "source": [
    "def compteur_complet(start, stop, step):\n",
    "    i = start\n",
    "    while i < stop:\n",
    "        print(i)\n",
    "        i = i + step"
   ]
  },
  {
   "cell_type": "code",
   "execution_count": null,
   "metadata": {},
   "outputs": [],
   "source": [
    "compteur_complet(1, 7, 2)"
   ]
  },
  {
   "cell_type": "code",
   "execution_count": null,
   "metadata": {},
   "outputs": [],
   "source": [
    "def cube(w):\n",
    "    return w**3"
   ]
  },
  {
   "cell_type": "code",
   "execution_count": null,
   "metadata": {},
   "outputs": [],
   "source": [
    "cube(3)"
   ]
  },
  {
   "cell_type": "code",
   "execution_count": null,
   "metadata": {},
   "outputs": [],
   "source": [
    "def volume_sphere(r):\n",
    "    return 4 / 3 * np.pi * cube(r)"
   ]
  },
  {
   "cell_type": "code",
   "execution_count": null,
   "metadata": {},
   "outputs": [],
   "source": [
    "r = float(input(\"Entrez la valeur du rayon : \"))\n",
    "print(\"Le volume de cette sphere vaut\", volume_sphere(r))"
   ]
  },
  {
   "cell_type": "code",
   "execution_count": null,
   "metadata": {},
   "outputs": [],
   "source": [
    "def nom():\n",
    "    nom = input(\"Votre nom :\")\n",
    "    print(\"Bonjour :\",nom)"
   ]
  },
  {
   "cell_type": "code",
   "execution_count": null,
   "metadata": {},
   "outputs": [],
   "source": [
    "data_10_bis_index.to_csv('C:/Users/marvin/Desktop/Python/data_10_bis_index.csv') "
   ]
  }
 ],
 "metadata": {
  "interpreter": {
   "hash": "d58e1caf36864655ca1ddf2d4f62205b7bd0d6700fa80da30d89b13aa2e61c3d"
  },
  "kernelspec": {
   "display_name": "Python 3.8.8 ('base')",
   "language": "python",
   "name": "python3"
  },
  "language_info": {
   "codemirror_mode": {
    "name": "ipython",
    "version": 3
   },
   "file_extension": ".py",
   "mimetype": "text/x-python",
   "name": "python",
   "nbconvert_exporter": "python",
   "pygments_lexer": "ipython3",
   "version": "3.8.8"
  },
  "orig_nbformat": 4
 },
 "nbformat": 4,
 "nbformat_minor": 2
}
